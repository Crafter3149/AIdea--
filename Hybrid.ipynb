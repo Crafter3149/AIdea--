{
 "cells": [
  {
   "cell_type": "code",
   "execution_count": null,
   "metadata": {},
   "outputs": [],
   "source": [
    "import pandas as pd\n",
    "import matplotlib.pyplot as plt\n",
    "import seaborn as sns\n",
    "import numpy as np\n",
    "from numpy.random import seed\n",
    "import tensorflow as tf\n",
    "from tensorflow import set_random_seed\n",
    "import sklearn\n",
    "from sklearn import preprocessing\n",
    "from sklearn import model_selection\n",
    "from tensorflow.python.keras.models import Sequential\n",
    "from tensorflow.python.keras.layers.core import Dense, Dropout, Activation,Flatten\n",
    "from tensorflow.python.keras.layers.embeddings import Embedding\n",
    "from tensorflow.python.keras import regularizers\n",
    "from tensorflow.python.keras import optimizers\n",
    "from tensorflow.python.keras import backend\n",
    "import xgboost as xgb\n",
    "from xgboost.sklearn import XGBClassifier\n",
    "import time\n",
    "import math\n",
    "from tensorflow.python.keras.layers import GRU,Masking,TimeDistributed,BatchNormalization\n",
    "import sys\n",
    "import tensorflow.python.keras.backend as K\n",
    "from tensorflow.python.keras import Input, Model\n",
    "from tensorflow.python.keras.layers.merge import concatenate, Average   \n",
    "from tcn import TCN, tcn_full_summary\n",
    "from tensorflow.python.keras.callbacks import EarlyStopping, ModelCheckpoint"
   ]
  },
  {
   "cell_type": "code",
   "execution_count": null,
   "metadata": {},
   "outputs": [],
   "source": [
    "Columns = [\"P_ID\",\"5-1_value\",\"5-2_value\",\"5-3_value\",\"2-1_M\",\"2-3_M\",\"3-1_M\",\"5-1_M\",\"5-3_M\",\"TYPE\"]\n",
    "Dp = ['DATE','MASK_ID','SUBSTRATE_ID','SHUTTER','SRC3_SHUTTER_STATUS','EVAPORATION_HALT','TIME']\n",
    "Label_Index = ['PLC_THICKNESS_SP','CRYSTAL_REMAINING_2','PLC_THICKNESS_1','CELL_CHANGE_CTRL_DLY_TIME_2','PLC_THICKNESS_2','THICKNESS_3','XXXX_POWER_3','PLC_THICKNESS_3']\n",
    "TargetIndex = [\"CIEX\",\"CIEY\",\"CIEX_DIFF\",\"CIEY_DIFF\"]"
   ]
  },
  {
   "cell_type": "code",
   "execution_count": null,
   "metadata": {
    "collapsed": true,
    "jupyter": {
     "outputs_hidden": true
    }
   },
   "outputs": [],
   "source": [
    "train_df = pd.read_csv(\"data1/train.csv\")\n",
    "train_df.drop_duplicates(subset = ['P_ID'],inplace=True)\n",
    "train_log_df = pd.read_csv(\"data1/train_log.csv\")\n",
    "test_df = pd.read_csv(\"data1/test.csv\")\n",
    "test_log_df = pd.read_csv(\"data1/test_log.csv\")\n",
    "all_df = pd.concat([train_df,test_df])\n",
    "all_log_df = pd.concat([train_log_df,test_log_df])\n",
    "all_log_df = all_log_df.interpolate()\n",
    "Data_df = all_df[Columns]"
   ]
  },
  {
   "cell_type": "code",
   "execution_count": null,
   "metadata": {},
   "outputs": [],
   "source": [
    "L = len(train_df)\n",
    "OneHotData_df = pd.get_dummies(Data_df)\n",
    "Std = [\"5-1_value\",\"5-2_value\",\"5-3_value\"]\n",
    "OneHotData_df[Std] = pd.DataFrame(preprocessing.scale(OneHotData_df[Std]))\n",
    "train = OneHotData_df[:L]\n",
    "train = train.dropna()\n",
    "sub_label = OneHotData_df[L:]\n",
    "train_label, test_label, train_feature, test_feature =  model_selection.train_test_split( train,all_df[TargetIndex][:L], test_size=0.33, random_state=42)\n",
    "train_label = train_label[:L]\n",
    "sc = preprocessing.MinMaxScaler(feature_range=(0, 1)).fit(train_feature)\n",
    "train_feature = pd.DataFrame(sc.transform(train_feature))\n",
    "train_feature = train_feature[:L]"
   ]
  },
  {
   "cell_type": "code",
   "execution_count": 88,
   "metadata": {},
   "outputs": [
    {
     "name": "stdout",
     "output_type": "stream",
     "text": [
      " Now Loading : 6339825 "
     ]
    }
   ],
   "source": [
    "# LOG = []\n",
    "# n=300\n",
    "# for i in test_df['P_ID']:\n",
    "#     C = all_log_df[all_log_df['P_ID']==i].sort_values('TIME')[Label_Index]\n",
    "#     LOG.append(np.array(preprocessing.scale(C)))\n",
    "#     sys.stdout.write(\"\\r Now Loading : %d \" %(i))\n",
    "#     sys.stdout.flush()\n",
    "# sub_log = np.array(LOG)\n",
    "LOG = []\n",
    "n=300\n",
    "for i in train_label['P_ID']:\n",
    "    C = all_log_df[all_log_df['P_ID']==i].sort_values('TIME')[Label_Index]\n",
    "    LOG.append(np.array(preprocessing.scale(C)))\n",
    "    #     LOG.append(np.array(C.drop(Dp,axis=1)[:41]))\n",
    "    sys.stdout.write(\"\\r Now Loading : %d \" %(i))\n",
    "    sys.stdout.flush()\n",
    "train_log = np.array(LOG)\n",
    "LOG = []\n",
    "n=300\n",
    "for i in test_label['P_ID']:\n",
    "    C = all_log_df[all_log_df['P_ID']==i].sort_values('TIME')[Label_Index]\n",
    "    LOG.append(np.array(preprocessing.scale(C)))\n",
    "    sys.stdout.write(\"\\r Now Loading : %d \" %(i))\n",
    "    sys.stdout.flush()\n",
    "test_log = np.array(LOG)"
   ]
  },
  {
   "cell_type": "code",
   "execution_count": 90,
   "metadata": {},
   "outputs": [
    {
     "data": {
      "text/plain": [
       "(5723,)"
      ]
     },
     "execution_count": 90,
     "metadata": {},
     "output_type": "execute_result"
    }
   ],
   "source": [
    "sub_log.shape"
   ]
  },
  {
   "cell_type": "code",
   "execution_count": null,
   "metadata": {},
   "outputs": [],
   "source": []
  },
  {
   "cell_type": "code",
   "execution_count": null,
   "metadata": {},
   "outputs": [],
   "source": [
    "all_log_df = pd.concat([train_log_df,test_log_df])\n",
    "all_log_df = all_log_df.interpolate()\n",
    "all_log_df[Label_Index] = pd.DataFrame(preprocessing.scale(all_log_df[Label_Index]))\n",
    "LOG = []\n",
    "Len = 414\n",
    "n=300\n",
    "for i in train_label['P_ID']:\n",
    "    C = all_log_df[all_log_df['P_ID']==i].sort_values('TIME')[Label_Index]\n",
    "    X = []\n",
    "    if len(C)>Len:\n",
    "        n = int(len(C)/Len)\n",
    "        for j in range(Len):\n",
    "            X.append(np.mean(C[j*n:(j+1)*n]))\n",
    "    else:\n",
    "        for j in range(Len):\n",
    "            if j < len(C):\n",
    "                X.append(C.iloc[j])\n",
    "            else:\n",
    "                X.append(np.zeros(8))\n",
    "    LOG.append(np.array(X))\n",
    "    sys.stdout.write(\"\\r Now Loading : %d \" %(i))\n",
    "    sys.stdout.flush()\n",
    "train_log = np.array(LOG)\n",
    "\n",
    "LOG = []\n",
    "Len = 414\n",
    "n=300\n",
    "for i in test_label['P_ID']:\n",
    "    C = all_log_df[all_log_df['P_ID']==i].sort_values('TIME')[Label_Index]\n",
    "    X = []\n",
    "    if len(C)>Len:\n",
    "        n = int(len(C)/Len)\n",
    "        for j in range(Len):\n",
    "            X.append(np.mean(C[j*n:(j+1)*n]))\n",
    "    else:\n",
    "        for j in range(Len):\n",
    "            if j < len(C):\n",
    "                X.append(C.iloc[j])\n",
    "            else:\n",
    "                X.append(np.zeros(8))\n",
    "    LOG.append(np.array(X))\n",
    "    sys.stdout.write(\"\\r Now Loading : %d \" %(i))\n",
    "    sys.stdout.flush()\n",
    "test_log = np.array(LOG)\n",
    "\n",
    "LOG = []\n",
    "Len = 414\n",
    "n=300\n",
    "for i in test_df['P_ID']:\n",
    "    C = all_log_df[all_log_df['P_ID']==i].sort_values('TIME')[Label_Index]\n",
    "    X = []\n",
    "    if len(C)>Len:\n",
    "        n = int(len(C)/Len)\n",
    "        for j in range(Len):\n",
    "            X.append(np.mean(C[j*n:(j+1)*n]))\n",
    "    else:\n",
    "        for j in range(Len):\n",
    "            if j < len(C):\n",
    "                X.append(C.iloc[j])\n",
    "            else:\n",
    "                X.append(np.zeros(8))\n",
    "    LOG.append(np.array(X))\n",
    "    sys.stdout.write(\"\\r Now Loading : %d \" %(i))\n",
    "    sys.stdout.flush()\n",
    "sub_log = np.array(LOG)"
   ]
  },
  {
   "cell_type": "code",
   "execution_count": null,
   "metadata": {},
   "outputs": [],
   "source": [
    "LOG = []\n",
    "n=300\n",
    "for i in test_df['P_ID']:\n",
    "    C = all_log_df[all_log_df['P_ID']==i].sort_values('TIME')[Label_Index]\n",
    "    X = []\n",
    "    n = int(len(C)/40)\n",
    "    for j in range(40):\n",
    "        X.append(np.mean(C[j*n:(j+1)*n]))\n",
    "    LOG.append(np.array(preprocessing.scale(X)))\n",
    "    sys.stdout.write(\"\\r Now Loading : %d \" %(i))\n",
    "    sys.stdout.flush()\n",
    "sub_log = np.array(LOG)\n",
    "LOG = []\n",
    "n=300\n",
    "for i in train_label['P_ID']:\n",
    "    C = all_log_df[all_log_df['P_ID']==i].sort_values('TIME')[Label_Index]\n",
    "    X = []\n",
    "    n = int(len(C)/40)\n",
    "    for j in range(40):\n",
    "        X.append(np.mean(C[j*n:(j+1)*n]))\n",
    "    LOG.append(np.array(preprocessing.scale(X)))\n",
    "    #     LOG.append(np.array(C.drop(Dp,axis=1)[:41]))\n",
    "    sys.stdout.write(\"\\r Now Loading : %d \" %(i))\n",
    "    sys.stdout.flush()\n",
    "train_log = np.array(LOG)\n",
    "LOG = []\n",
    "n=300\n",
    "for i in test_label['P_ID']:\n",
    "    C = all_log_df[all_log_df['P_ID']==i].sort_values('TIME')[Label_Index]\n",
    "    X = []\n",
    "    n = int(len(C)/40)\n",
    "    for j in range(40):\n",
    "        X.append(np.mean(C[j*n:(j+1)*n]))\n",
    "    LOG.append(np.array(preprocessing.scale(X)))\n",
    "    sys.stdout.write(\"\\r Now Loading : %d \" %(i))\n",
    "    sys.stdout.flush()\n",
    "test_log = np.array(LOG)"
   ]
  },
  {
   "cell_type": "code",
   "execution_count": null,
   "metadata": {},
   "outputs": [],
   "source": [
    "LOG = []\n",
    "n=300\n",
    "for i in test_df['P_ID']:\n",
    "    C = all_log_df[all_log_df['P_ID']==i].sort_values('TIME').drop(Dp,axis=1)\n",
    "    X = []\n",
    "    n = int(len(C)/40)\n",
    "    for j in range(40):\n",
    "        X.append(np.mean(C[j*n:(j+1)*n]))\n",
    "    LOG.append(np.array(preprocessing.scale(X)))\n",
    "    sys.stdout.write(\"\\r Now Loading : %d \" %(i))\n",
    "    sys.stdout.flush()\n",
    "sub_log = np.array(LOG)\n",
    "LOG = []\n",
    "n=300\n",
    "for i in train_label['P_ID']:\n",
    "    C = all_log_df[all_log_df['P_ID']==i].sort_values('TIME').drop(Dp,axis=1)\n",
    "    X = []\n",
    "    n = int(len(C)/40)\n",
    "    for j in range(40):\n",
    "        X.append(np.mean(C[j*n:(j+1)*n]))\n",
    "    LOG.append(np.array(preprocessing.scale(X)))\n",
    "    #     LOG.append(np.array(C.drop(Dp,axis=1)[:41]))\n",
    "    sys.stdout.write(\"\\r Now Loading : %d \" %(i))\n",
    "    sys.stdout.flush()\n",
    "train_log = np.array(LOG)\n",
    "LOG = []\n",
    "n=300\n",
    "for i in test_label['P_ID']:\n",
    "    C = all_log_df[all_log_df['P_ID']==i].sort_values('TIME').drop(Dp,axis=1)\n",
    "    X = []\n",
    "    n = int(len(C)/40)\n",
    "    for j in range(40):\n",
    "        X.append(np.mean(C[j*n:(j+1)*n]))\n",
    "    LOG.append(np.array(preprocessing.scale(X)))\n",
    "    sys.stdout.write(\"\\r Now Loading : %d \" %(i))\n",
    "    sys.stdout.flush()\n",
    "test_log = np.array(LOG)"
   ]
  },
  {
   "cell_type": "code",
   "execution_count": 77,
   "metadata": {},
   "outputs": [],
   "source": [
    "def my_mean_absolute_error(y_true, y_pred):\n",
    "    W = [0.249,0.330,0.172,0.204]\n",
    "#     print(y_pred*W)\n",
    "    return K.sum(K.abs((y_pred - y_true)*W))\n",
    "# , axis=-1"
   ]
  },
  {
   "cell_type": "code",
   "execution_count": 109,
   "metadata": {},
   "outputs": [
    {
     "data": {
      "text/plain": [
       "(3318,)"
      ]
     },
     "execution_count": 109,
     "metadata": {},
     "output_type": "execute_result"
    }
   ],
   "source": [
    "train_log.shape"
   ]
  },
  {
   "cell_type": "code",
   "execution_count": 111,
   "metadata": {},
   "outputs": [],
   "source": [
    "backend.clear_session()\n",
    "# tf.random.set_seed(3)\n",
    "\n",
    "set_random_seed(2)\n",
    "# checkpointer = ModelCheckpoint(filepath='Model/TCN_ZIPTEST.hdf5',monitor='loss', verbose=1, save_best_only=True)\n",
    "my_adam = optimizers.adam(lr=0.001, beta_1=0.9, beta_2=0.999, epsilon=None, decay=0.01, amsgrad=False)\n",
    "callback = tf.keras.callbacks.EarlyStopping(monitor='val_loss', patience=30)\n",
    "\n",
    "X_MLP = Input(shape=(35))\n",
    "X_TS = Input(batch_shape=(None,None,8))\n",
    "\n",
    "MLP_Layer = Dense(128,kernel_initializer='uniform',activation='relu')(X_MLP)\n",
    "MLP_Layer = Dense(32,kernel_initializer='uniform',activation='relu')(MLP_Layer)\n",
    "TCN_Layer = TCN(nb_filters=128, kernel_size=2, nb_stacks=1, dilations=[1, 2, 4, 8, 16, 32], padding='causal', use_skip_connections=True, dropout_rate=0., return_sequences=True, activation='relu', kernel_initializer='he_normal', use_batch_norm=False)(X_TS)\n",
    "TCN_Layer = TCN(nb_filters=4,return_sequences=False,kernel_initializer='he_normal')(TCN_Layer)\n",
    "# GRU_Layer = GRU(128,return_sequences=True)(X_TS)\n",
    "# GRU_Layer = GRU(32,return_sequences=False)(GRU_Layer)\n",
    "\n",
    "Merge = concatenate([MLP_Layer, TCN_Layer])\n",
    "Merge = Dense(128, activation='relu',kernel_initializer='uniform',)(Merge)\n",
    "\n",
    "\n",
    "Y = Dense(4, activation='sigmoid',kernel_initializer='uniform')(Merge)\n",
    "\n",
    "Model_Hybrid = Model(inputs=[X_MLP,X_TS] ,outputs = Y)\n",
    "Model_Hybrid.compile(loss=my_mean_absolute_error, optimizer=my_adam)\n",
    "\n"
   ]
  },
  {
   "cell_type": "code",
   "execution_count": 113,
   "metadata": {},
   "outputs": [
    {
     "ename": "ValueError",
     "evalue": "Error when checking input: expected input_2 to have 3 dimensions, but got array with shape (3318, 1)",
     "output_type": "error",
     "traceback": [
      "\u001b[1;31m---------------------------------------------------------------------------\u001b[0m",
      "\u001b[1;31mValueError\u001b[0m                                Traceback (most recent call last)",
      "\u001b[1;32m<ipython-input-113-ed11046f589e>\u001b[0m in \u001b[0;36m<module>\u001b[1;34m\u001b[0m\n\u001b[0;32m      1\u001b[0m \u001b[1;31m# hist = Model_Hybrid.fit([train_label.drop(['P_ID'],axis=1),train_log], train_feature, batch_size=128,epochs=1000 , verbose=1,validation_split=0,callbacks=[checkpointer])\u001b[0m\u001b[1;33m\u001b[0m\u001b[1;33m\u001b[0m\u001b[1;33m\u001b[0m\u001b[0m\n\u001b[0;32m      2\u001b[0m \u001b[0mset_random_seed\u001b[0m\u001b[1;33m(\u001b[0m\u001b[1;36m2\u001b[0m\u001b[1;33m)\u001b[0m\u001b[1;33m\u001b[0m\u001b[1;33m\u001b[0m\u001b[0m\n\u001b[1;32m----> 3\u001b[1;33m \u001b[0mhist\u001b[0m \u001b[1;33m=\u001b[0m \u001b[0mModel_Hybrid\u001b[0m\u001b[1;33m.\u001b[0m\u001b[0mfit\u001b[0m\u001b[1;33m(\u001b[0m\u001b[1;33m[\u001b[0m\u001b[0mtrain_label\u001b[0m\u001b[1;33m.\u001b[0m\u001b[0mdrop\u001b[0m\u001b[1;33m(\u001b[0m\u001b[1;33m[\u001b[0m\u001b[1;34m'P_ID'\u001b[0m\u001b[1;33m]\u001b[0m\u001b[1;33m,\u001b[0m\u001b[0maxis\u001b[0m\u001b[1;33m=\u001b[0m\u001b[1;36m1\u001b[0m\u001b[1;33m)\u001b[0m\u001b[1;33m,\u001b[0m\u001b[0mtrain_log\u001b[0m\u001b[1;33m]\u001b[0m\u001b[1;33m,\u001b[0m \u001b[0mtrain_feature\u001b[0m\u001b[1;33m,\u001b[0m \u001b[0mbatch_size\u001b[0m\u001b[1;33m=\u001b[0m\u001b[1;36m128\u001b[0m\u001b[1;33m,\u001b[0m\u001b[0mepochs\u001b[0m\u001b[1;33m=\u001b[0m\u001b[1;36m1000\u001b[0m \u001b[1;33m,\u001b[0m \u001b[0mverbose\u001b[0m\u001b[1;33m=\u001b[0m\u001b[1;36m1\u001b[0m\u001b[1;33m,\u001b[0m\u001b[0mvalidation_split\u001b[0m\u001b[1;33m=\u001b[0m\u001b[1;36m0\u001b[0m\u001b[1;33m)\u001b[0m\u001b[1;33m\u001b[0m\u001b[1;33m\u001b[0m\u001b[0m\n\u001b[0m",
      "\u001b[1;32m~\\AppData\\Local\\Continuum\\anaconda3\\lib\\site-packages\\tensorflow\\python\\keras\\engine\\training.py\u001b[0m in \u001b[0;36mfit\u001b[1;34m(self, x, y, batch_size, epochs, verbose, callbacks, validation_split, validation_data, shuffle, class_weight, sample_weight, initial_epoch, steps_per_epoch, validation_steps, validation_freq, max_queue_size, workers, use_multiprocessing, **kwargs)\u001b[0m\n\u001b[0;32m    707\u001b[0m         \u001b[0msteps\u001b[0m\u001b[1;33m=\u001b[0m\u001b[0msteps_per_epoch\u001b[0m\u001b[1;33m,\u001b[0m\u001b[1;33m\u001b[0m\u001b[1;33m\u001b[0m\u001b[0m\n\u001b[0;32m    708\u001b[0m         \u001b[0mvalidation_split\u001b[0m\u001b[1;33m=\u001b[0m\u001b[0mvalidation_split\u001b[0m\u001b[1;33m,\u001b[0m\u001b[1;33m\u001b[0m\u001b[1;33m\u001b[0m\u001b[0m\n\u001b[1;32m--> 709\u001b[1;33m         shuffle=shuffle)\n\u001b[0m\u001b[0;32m    710\u001b[0m \u001b[1;33m\u001b[0m\u001b[0m\n\u001b[0;32m    711\u001b[0m     \u001b[1;31m# Prepare validation data.\u001b[0m\u001b[1;33m\u001b[0m\u001b[1;33m\u001b[0m\u001b[1;33m\u001b[0m\u001b[0m\n",
      "\u001b[1;32m~\\AppData\\Local\\Continuum\\anaconda3\\lib\\site-packages\\tensorflow\\python\\keras\\engine\\training.py\u001b[0m in \u001b[0;36m_standardize_user_data\u001b[1;34m(self, x, y, sample_weight, class_weight, batch_size, check_steps, steps_name, steps, validation_split, shuffle, extract_tensors_from_dataset)\u001b[0m\n\u001b[0;32m   2649\u001b[0m           \u001b[0mfeed_input_shapes\u001b[0m\u001b[1;33m,\u001b[0m\u001b[1;33m\u001b[0m\u001b[1;33m\u001b[0m\u001b[0m\n\u001b[0;32m   2650\u001b[0m           \u001b[0mcheck_batch_axis\u001b[0m\u001b[1;33m=\u001b[0m\u001b[1;32mFalse\u001b[0m\u001b[1;33m,\u001b[0m  \u001b[1;31m# Don't enforce the batch size.\u001b[0m\u001b[1;33m\u001b[0m\u001b[1;33m\u001b[0m\u001b[0m\n\u001b[1;32m-> 2651\u001b[1;33m           exception_prefix='input')\n\u001b[0m\u001b[0;32m   2652\u001b[0m \u001b[1;33m\u001b[0m\u001b[0m\n\u001b[0;32m   2653\u001b[0m     \u001b[1;32mif\u001b[0m \u001b[0my\u001b[0m \u001b[1;32mis\u001b[0m \u001b[1;32mnot\u001b[0m \u001b[1;32mNone\u001b[0m\u001b[1;33m:\u001b[0m\u001b[1;33m\u001b[0m\u001b[1;33m\u001b[0m\u001b[0m\n",
      "\u001b[1;32m~\\AppData\\Local\\Continuum\\anaconda3\\lib\\site-packages\\tensorflow\\python\\keras\\engine\\training_utils.py\u001b[0m in \u001b[0;36mstandardize_input_data\u001b[1;34m(data, names, shapes, check_batch_axis, exception_prefix)\u001b[0m\n\u001b[0;32m    374\u001b[0m                            \u001b[1;34m': expected '\u001b[0m \u001b[1;33m+\u001b[0m \u001b[0mnames\u001b[0m\u001b[1;33m[\u001b[0m\u001b[0mi\u001b[0m\u001b[1;33m]\u001b[0m \u001b[1;33m+\u001b[0m \u001b[1;34m' to have '\u001b[0m \u001b[1;33m+\u001b[0m\u001b[1;33m\u001b[0m\u001b[1;33m\u001b[0m\u001b[0m\n\u001b[0;32m    375\u001b[0m                            \u001b[0mstr\u001b[0m\u001b[1;33m(\u001b[0m\u001b[0mlen\u001b[0m\u001b[1;33m(\u001b[0m\u001b[0mshape\u001b[0m\u001b[1;33m)\u001b[0m\u001b[1;33m)\u001b[0m \u001b[1;33m+\u001b[0m \u001b[1;34m' dimensions, but got array '\u001b[0m\u001b[1;33m\u001b[0m\u001b[1;33m\u001b[0m\u001b[0m\n\u001b[1;32m--> 376\u001b[1;33m                            'with shape ' + str(data_shape))\n\u001b[0m\u001b[0;32m    377\u001b[0m         \u001b[1;32mif\u001b[0m \u001b[1;32mnot\u001b[0m \u001b[0mcheck_batch_axis\u001b[0m\u001b[1;33m:\u001b[0m\u001b[1;33m\u001b[0m\u001b[1;33m\u001b[0m\u001b[0m\n\u001b[0;32m    378\u001b[0m           \u001b[0mdata_shape\u001b[0m \u001b[1;33m=\u001b[0m \u001b[0mdata_shape\u001b[0m\u001b[1;33m[\u001b[0m\u001b[1;36m1\u001b[0m\u001b[1;33m:\u001b[0m\u001b[1;33m]\u001b[0m\u001b[1;33m\u001b[0m\u001b[1;33m\u001b[0m\u001b[0m\n",
      "\u001b[1;31mValueError\u001b[0m: Error when checking input: expected input_2 to have 3 dimensions, but got array with shape (3318, 1)"
     ]
    }
   ],
   "source": [
    "# hist = Model_Hybrid.fit([train_label.drop(['P_ID'],axis=1),train_log], train_feature, batch_size=128,epochs=1000 , verbose=1,validation_split=0,callbacks=[checkpointer])\n",
    "set_random_seed(2)\n",
    "hist = Model_Hybrid.fit([train_label.drop(['P_ID'],axis=1),train_log], train_feature, batch_size=128,epochs=1000 , verbose=1,validation_split=0)"
   ]
  },
  {
   "cell_type": "code",
   "execution_count": 84,
   "metadata": {},
   "outputs": [
    {
     "name": "stdout",
     "output_type": "stream",
     "text": [
      "0.005740639752027373\n"
     ]
    }
   ],
   "source": [
    "test_1_Pre =  Model_Hybrid.predict([test_label.drop(['P_ID'],axis=1),test_log])\n",
    "Pre_df = pd.DataFrame(test_1_Pre)\n",
    "Pre_df = pd.DataFrame(sc.inverse_transform(Pre_df))\n",
    "W = [0.249,0.330,0.172,0.204]\n",
    "Wmae = 0\n",
    "for n in range(4):\n",
    "    MAE = 0\n",
    "    for i in range(len(Pre_df[0])):\n",
    "        MAE = MAE + abs(Pre_df[n][i]-test_feature[TargetIndex[n]].iloc[i])\n",
    "#     print(MAE/len(Pre_df[n]))\n",
    "    Wmae = Wmae + (MAE/len(Pre_df[n]))*W[n]\n",
    "print(Wmae)"
   ]
  },
  {
   "cell_type": "code",
   "execution_count": null,
   "metadata": {},
   "outputs": [],
   "source": [
    "# Model_Hybrid.load_weights(\"Model/weights.hdf5\")\n",
    "test_1_Pre =  Model_Hybrid.predict([test_label.drop(['P_ID'],axis=1),test_log])\n",
    "Pre_df = pd.DataFrame(test_1_Pre)\n",
    "Pre_df = pd.DataFrame(sc.inverse_transform(Pre_df))\n",
    "W = [0.249,0.330,0.172,0.204]\n",
    "Wmae = 0\n",
    "for n in range(4):\n",
    "    MAE = 0\n",
    "    for i in range(len(Pre_df[0])):\n",
    "        MAE = MAE + abs(Pre_df[n][i]-test_feature[TargetIndex[n]].iloc[i])\n",
    "#     print(MAE/len(Pre_df[n]))\n",
    "    Wmae = Wmae + (MAE/len(Pre_df[n]))*W[n]\n",
    "print(Wmae)"
   ]
  },
  {
   "cell_type": "code",
   "execution_count": null,
   "metadata": {},
   "outputs": [],
   "source": [
    "plt.plot(hist.history['loss'],label='loss')\n",
    "plt.plot(hist.history['val_loss'],label='val_loss')\n",
    "plt.legend()\n",
    "plt.savefig('ZIP_GRU_loss.jpg',bbox_inches = 'tight')"
   ]
  },
  {
   "cell_type": "code",
   "execution_count": 85,
   "metadata": {},
   "outputs": [
    {
     "data": {
      "image/png": "[encoded data removed]",
      "text/plain": [
       "<Figure size 1800x432 with 4 Axes>"
      ]
     },
     "metadata": {
      "needs_background": "light"
     },
     "output_type": "display_data"
    }
   ],
   "source": [
    "from sklearn.metrics import r2_score\n",
    "plt.figure(figsize=(25,6))\n",
    "for n in range(2):\n",
    "    plt.subplot(1,4,n+1)\n",
    "    plt.scatter(test_feature[TargetIndex[n]],Pre_df[n],marker = \".\")\n",
    "    plt.title(test_feature.columns[n],loc='left',fontsize=20)\n",
    "    plt.xlabel(\"Obs\",fontsize=15)\n",
    "    plt.ylabel(\"Pre\",fontsize=15)\n",
    "    plt.ylim(0.5,5)\n",
    "    plt.xlim(0.5,5)\n",
    "    z = np.polyfit(pd.to_numeric(test_feature[TargetIndex[n]]), pd.to_numeric(Pre_df[n]), 1)\n",
    "    p = np.poly1d(z) \n",
    "    plt.plot(test_feature[TargetIndex[n]],p(test_feature[TargetIndex[n]]),\"r\")\n",
    "    plt.grid()\n",
    "    plt.plot([0.5, 5], [0.5, 5],ls='--',c=\"0\")\n",
    "for n in range(2,4,1):\n",
    "    plt.subplot(1,4,n+1)\n",
    "    plt.scatter(test_feature[TargetIndex[n]],Pre_df[n],marker = \".\")\n",
    "    plt.title(test_feature.columns[n],loc='left',fontsize=20)\n",
    "    plt.xlabel(\"Obs\",fontsize=15)\n",
    "    plt.ylabel(\"Pre\",fontsize=15)\n",
    "    plt.ylim(0,0.035)\n",
    "    plt.xlim(0,0.035)\n",
    "    z = np.polyfit(pd.to_numeric(test_feature[TargetIndex[n]]), pd.to_numeric(Pre_df[n]), 1)\n",
    "    p = np.poly1d(z)\n",
    "    plt.plot(test_feature[TargetIndex[n]],p(test_feature[TargetIndex[n]]),\"r\")\n",
    "    plt.grid()\n",
    "    plt.plot([0, 0.035], [0, 0.035],ls='--',c=\"0\")\n",
    "# plt.savefig('MAE.jpg',bbox_inches='tight')"
   ]
  },
  {
   "cell_type": "code",
   "execution_count": null,
   "metadata": {},
   "outputs": [],
   "source": [
    "sub_1_Pre =  Model_Hybrid.predict([sub_label.drop(['P_ID'],axis=1),sub_log])\n",
    "Pre_df = pd.DataFrame(sub_1_Pre)\n",
    "Pre_df = pd.DataFrame(sc.inverse_transform(Pre_df))"
   ]
  },
  {
   "cell_type": "code",
   "execution_count": null,
   "metadata": {},
   "outputs": [],
   "source": [
    "writer = pd.ExcelWriter('subdnnreport.xlsx')\n",
    "Pre_df.to_excel(writer,sheet_name=\"1\")\n",
    "writer.save()"
   ]
  }
 ],
 "metadata": {
  "kernelspec": {
   "display_name": "Python 3",
   "language": "python",
   "name": "python3"
  },
  "language_info": {
   "codemirror_mode": {
    "name": "ipython",
    "version": 3
   },
   "file_extension": ".py",
   "mimetype": "text/x-python",
   "name": "python",
   "nbconvert_exporter": "python",
   "pygments_lexer": "ipython3",
   "version": "3.7.4"
  }
 },
 "nbformat": 4,
 "nbformat_minor": 4
}
